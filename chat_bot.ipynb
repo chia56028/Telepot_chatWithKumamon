{
 "cells": [
  {
   "cell_type": "code",
   "execution_count": 1,
   "metadata": {
    "collapsed": true
   },
   "outputs": [],
   "source": [
    "import telepot\n",
    "from telepot.loop import MessageLoop\n",
    "# from telepot.namedtuple import ReplyKeyboardMarkup, KeyboardButton, InlineKeyboardMarkup, InlineKeyboardButton\n",
    "# from random import choice\n",
    "import json"
   ]
  },
  {
   "cell_type": "code",
   "execution_count": 2,
   "metadata": {
    "collapsed": true
   },
   "outputs": [],
   "source": [
    "#import token\n",
    "def token():\n",
    "    token_file = \"token.txt\"\n",
    "    \n",
    "    import os.path\n",
    "    if os.path.isfile(token_file):\n",
    "        f = open(token_file, 'r')\n",
    "        TOKEN = f.read()\n",
    "        if TOKEN:\n",
    "            TOKEN = TOKEN.rstrip()\n",
    "    \n",
    "    return TOKEN"
   ]
  },
  {
   "cell_type": "code",
   "execution_count": 3,
   "metadata": {
    "scrolled": false
   },
   "outputs": [
    {
     "name": "stdout",
     "output_type": "stream",
     "text": [
      "Listening ...\n",
      "{\n",
      "    \"from\": {\n",
      "        \"first_name\": \"\\u9f8d\",\n",
      "        \"id\": 314161939,\n",
      "        \"last_name\": \"\\u8c93\",\n",
      "        \"username\": \"chia56028\",\n",
      "        \"language_code\": \"zh-TW\"\n",
      "    },\n",
      "    \"chat\": {\n",
      "        \"first_name\": \"\\u9f8d\",\n",
      "        \"id\": 314161939,\n",
      "        \"last_name\": \"\\u8c93\",\n",
      "        \"type\": \"private\",\n",
      "        \"username\": \"chia56028\"\n",
      "    },\n",
      "    \"text\": \"\\u6f02\\u4eae\",\n",
      "    \"date\": 1502939115,\n",
      "    \"message_id\": 16\n",
      "}\n"
     ]
    }
   ],
   "source": [
    "def print_msg(msg):\n",
    "    print(json.dumps(msg, indent=4))\n",
    "\n",
    "def on_chat(msg):\n",
    "    header = telepot.glance(msg, flavor=\"chat\")\n",
    "    \n",
    "    print_msg(msg)\n",
    "\n",
    "    if header[0] == \"text\":\n",
    "        text = msg[\"text\"]\n",
    "     \n",
    "        with open('data.json', 'r', encoding='UTF-8') as f:\n",
    "            data=json.load(f)\n",
    "        \n",
    "        image_url = \"http://image.knowing.asia/80c5a7af-8c95-4f92-a0bd-58d2fcda2f84/93b20af9836165ddb06c7fa74d78aacd.png\"\n",
    "        for i in data:\n",
    "            if i['key'] in text:\n",
    "                image_url = i['value']\n",
    "                bot.sendPhoto(header[2], image_url)\n",
    "            \n",
    "#     else: \n",
    "#         image_url = \"http://image.knowing.asia/80c5a7af-8c95-4f92-a0bd-58d2fcda2f84/93b20af9836165ddb06c7fa74d78aacd.png\"\n",
    "#         bot.sendPhoto(header[2], image_url)\n",
    "\n",
    "bot = telepot.Bot(token())\n",
    "MessageLoop(bot, {\n",
    "    'chat': on_chat,\n",
    "}).run_as_thread()\n",
    "\n",
    "print('Listening ...')\n"
   ]
  },
  {
   "cell_type": "code",
   "execution_count": null,
   "metadata": {
    "collapsed": true
   },
   "outputs": [],
   "source": []
  }
 ],
 "metadata": {
  "kernelspec": {
   "display_name": "Python 3",
   "language": "python",
   "name": "python3"
  },
  "language_info": {
   "codemirror_mode": {
    "name": "ipython",
    "version": 3
   },
   "file_extension": ".py",
   "mimetype": "text/x-python",
   "name": "python",
   "nbconvert_exporter": "python",
   "pygments_lexer": "ipython3",
   "version": "3.4.3"
  }
 },
 "nbformat": 4,
 "nbformat_minor": 2
}
