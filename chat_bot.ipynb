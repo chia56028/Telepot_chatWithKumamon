{
 "cells": [
  {
   "cell_type": "code",
   "execution_count": 1,
   "metadata": {
    "collapsed": true
   },
   "outputs": [],
   "source": [
    "#引入需要的模組\n",
    "import telepot, json\n",
    "from telepot.loop import MessageLoop"
   ]
  },
  {
   "cell_type": "code",
   "execution_count": 2,
   "metadata": {
    "collapsed": true
   },
   "outputs": [],
   "source": [
    "#讀檔，讀取機器人的token\n",
    "def token():\n",
    "    token_file = \"token.txt\"\n",
    "    \n",
    "    import os.path\n",
    "    if os.path.isfile(token_file):\n",
    "        f = open(token_file, 'r')\n",
    "        TOKEN = f.read()\n",
    "        if TOKEN:\n",
    "            TOKEN = TOKEN.rstrip()\n",
    "    \n",
    "    return TOKEN"
   ]
  },
  {
   "cell_type": "code",
   "execution_count": 5,
   "metadata": {
    "collapsed": true
   },
   "outputs": [],
   "source": [
    "#印出使用者傳送的資料\n",
    "def print_msg(msg):\n",
    "    print(json.dumps(msg, indent=4))"
   ]
  },
  {
   "cell_type": "code",
   "execution_count": 4,
   "metadata": {
    "scrolled": false
   },
   "outputs": [
    {
     "name": "stdout",
     "output_type": "stream",
     "text": [
      "Listening ...\n"
     ]
    }
   ],
   "source": [
    "#搜尋關鍵字，寄送相對應的梗圖\n",
    "def on_chat(msg):\n",
    "    header = telepot.glance(msg, flavor=\"chat\")\n",
    "    \n",
    "    print_msg(msg)\n",
    "\n",
    "    if header[0] == \"text\":\n",
    "        text = msg[\"text\"]\n",
    "     \n",
    "        with open('data.json', 'r', encoding='UTF-8') as f:\n",
    "            data=json.load(f)\n",
    "        \n",
    "        image_url = \"http://image.knowing.asia/80c5a7af-8c95-4f92-a0bd-58d2fcda2f84/93b20af9836165ddb06c7fa74d78aacd.png\"\n",
    "        for i in data:\n",
    "            if i['key'] in text:\n",
    "                image_url = i['value']\n",
    "                bot.sendPhoto(header[2], image_url)\n",
    "\n",
    "bot = telepot.Bot(token())\n",
    "MessageLoop(bot, {\n",
    "    'chat': on_chat,\n",
    "}).run_as_thread()\n",
    "\n",
    "print('Listening ...')"
   ]
  },
  {
   "cell_type": "code",
   "execution_count": null,
   "metadata": {
    "collapsed": true
   },
   "outputs": [],
   "source": []
  }
 ],
 "metadata": {
  "kernelspec": {
   "display_name": "Python 3",
   "language": "python",
   "name": "python3"
  },
  "language_info": {
   "codemirror_mode": {
    "name": "ipython",
    "version": 3
   },
   "file_extension": ".py",
   "mimetype": "text/x-python",
   "name": "python",
   "nbconvert_exporter": "python",
   "pygments_lexer": "ipython3",
   "version": "3.4.3"
  }
 },
 "nbformat": 4,
 "nbformat_minor": 2
}
